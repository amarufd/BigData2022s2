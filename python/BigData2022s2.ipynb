{
  "cells": [
    {
      "cell_type": "markdown",
      "metadata": {
        "id": "65Q3eUiJourr"
      },
      "source": [
        "# Introducción Python"
      ]
    },
    {
      "cell_type": "markdown",
      "metadata": {
        "id": "vdolTllIs_VW"
      },
      "source": [
        "## trabajando con variables basicas"
      ]
    },
    {
      "cell_type": "code",
      "execution_count": 1,
      "metadata": {
        "colab": {
          "base_uri": "https://localhost:8080/"
        },
        "id": "460mb2qAisba",
        "outputId": "e58a94e3-3c7e-45fc-8f85-755350a13d6a"
      },
      "outputs": [
        {
          "name": "stdout",
          "output_type": "stream",
          "text": [
            "felicidad es: estar sentado en la playa mirando el atardecer\n",
            "\n",
            "Como esta el clima hoy: Soleado\n",
            "con 35ºC\n",
            "debo usar paraguas: False\n"
          ]
        }
      ],
      "source": [
        "# I Python Notebook\n",
        "\n",
        "# Trabajando con mis primeras variables\n",
        "felicidad = \"estar sentado en la playa mirando el atardecer\"\n",
        "print(f\"felicidad es: {felicidad}\\n\")\n",
        "\n",
        "clima = \"Soleado\"\n",
        "print(f\"Como esta el clima hoy: {clima}\")\n",
        "\n",
        "temperatura = 35\n",
        "print(f'con {temperatura}ºC')\n",
        "\n",
        "debo_usar_paraguas = False\n",
        "print(f'debo usar paraguas: {debo_usar_paraguas}')"
      ]
    },
    {
      "cell_type": "markdown",
      "metadata": {
        "id": "1Sod18uTtEiy"
      },
      "source": [
        "## Opoeradores Aritmeticos"
      ]
    },
    {
      "cell_type": "code",
      "execution_count": 2,
      "metadata": {
        "colab": {
          "base_uri": "https://localhost:8080/"
        },
        "id": "FBz9TbIuoXXf",
        "outputId": "d56409c8-11ad-4461-ea88-974ae08c1ff4"
      },
      "outputs": [
        {
          "name": "stdout",
          "output_type": "stream",
          "text": [
            "El valor de x es 80 y el valor de y es 21\n",
            "El resultado de la suma entre x e y es: 101\n",
            "El resultado de la resta entre x e y es: 59\n",
            "El resultado de la multiplicacion entre x e y es: 1680\n",
            "El resultado de la division de x sobre y es: 3.8095238095238093\n",
            "El resultado de la division de x sobre y es: 3\n",
            "El resultado de x elevado en y es: 9223372036854775808000000000000000000000\n",
            "El modulo de x sobre y es: 17\n"
          ]
        }
      ],
      "source": [
        "# inicializando las variables\n",
        "x = 80\n",
        "y = 21\n",
        "\n",
        "print(f'El valor de x es {x} y el valor de y es {y}')\n",
        "\n",
        "# suma\n",
        "resultado = x + y\n",
        "print(f'El resultado de la suma entre x e y es: {resultado}')\n",
        "\n",
        "# restar\n",
        "resultado = x - y\n",
        "print(f'El resultado de la resta entre x e y es: {resultado}')\n",
        "\n",
        "# multiplicar\n",
        "resultado = x * y\n",
        "print(f'El resultado de la multiplicacion entre x e y es: {resultado}')\n",
        "\n",
        "# division\n",
        "resultado = x / y\n",
        "print(f'El resultado de la division de x sobre y es: {resultado}')\n",
        "\n",
        "# division entera (no tiene decimales en su respuesta)\n",
        "resultado = x // y\n",
        "print(f'El resultado de la division de x sobre y es: {resultado}')\n",
        "\n",
        "# elevado\n",
        "resultado = x ** y\n",
        "print(f'El resultado de x elevado en y es: {resultado}')\n",
        "\n",
        "# modulo (corresponde al resto en una division)\n",
        "# calculando el modulo de manera manual:\n",
        "# si:\n",
        "# x vale 80\n",
        "# y vale 21\n",
        "# entonces cuantas veces cabe el 21 en el 80\n",
        "# el 21 en el 80 cabe 3 veces\n",
        "# 3 multiplicado 21 es igual a 63\n",
        "# 80 menos 63 es 17\n",
        "# como ya no puedo dividir mas sin sacar decimales,\n",
        "# el resultado del mod es 17\n",
        "resultado = x % y\n",
        "print(f'El modulo de x sobre y es: {resultado}')\n",
        "\n"
      ]
    },
    {
      "cell_type": "markdown",
      "metadata": {
        "id": "SFe7dWlLw50b"
      },
      "source": [
        "## Operadores de comparacion"
      ]
    },
    {
      "cell_type": "code",
      "execution_count": 3,
      "metadata": {
        "colab": {
          "base_uri": "https://localhost:8080/"
        },
        "id": "_I7BrnzMw5Hw",
        "outputId": "fed27a42-0099-4ce1-8207-d22d54f86b43"
      },
      "outputs": [
        {
          "name": "stdout",
          "output_type": "stream",
          "text": [
            "es 89 mayor a 121: False\n",
            "es 89 mayor igual a 121: False\n",
            "es 89 menor a 121: True\n",
            "es 89 menor igual a 121: True\n",
            "es 89 igual a 121: False\n",
            "es 89 distinto a 121: True\n"
          ]
        }
      ],
      "source": [
        "# Inicializando variables\n",
        "x = 89\n",
        "y = 121\n",
        "\n",
        "# mayor que\n",
        "resultado = x > y\n",
        "print(f'es {x} mayor a {y}: {resultado}')\n",
        "\n",
        "\n",
        "# mayor iagual que\n",
        "resultado = x >= y\n",
        "print(f'es {x} mayor igual a {y}: {resultado}')\n",
        "\n",
        "\n",
        "# menor que\n",
        "resultado = x < y\n",
        "print(f'es {x} menor a {y}: {resultado}')\n",
        "\n",
        "\n",
        "# menor igual que\n",
        "resultado = x <= y\n",
        "print(f'es {x} menor igual a {y}: {resultado}')\n",
        "\n",
        "\n",
        "# igual igual a\n",
        "resultado = x == y\n",
        "print(f'es {x} igual a {y}: {resultado}')\n",
        "\n",
        "\n",
        "# distinto que\n",
        "resultado = x != y\n",
        "print(f'es {x} distinto a {y}: {resultado}')\n"
      ]
    },
    {
      "cell_type": "markdown",
      "metadata": {
        "id": "ioD1cmIy0JsJ"
      },
      "source": [
        "## Operadores Booleanos"
      ]
    },
    {
      "cell_type": "code",
      "execution_count": 4,
      "metadata": {
        "colab": {
          "base_uri": "https://localhost:8080/"
        },
        "id": "01NYj-h90PpX",
        "outputId": "f514e131-660d-4d48-baa6-ea569b88a9e4"
      },
      "outputs": [
        {
          "name": "stdout",
          "output_type": "stream",
          "text": [
            "respuesta de True and False es False\n",
            "respuesta de True or False es True\n",
            "respuesta de not True es False\n"
          ]
        }
      ],
      "source": [
        "# Inicializando variables\n",
        "estoy_en_casa = True\n",
        "estoy_en_la_montaña = False\n",
        "\n",
        "# operador and\n",
        "felicidad = estoy_en_casa and estoy_en_la_montaña\n",
        "print(f\"respuesta de {estoy_en_casa} and {estoy_en_la_montaña} es {felicidad}\")\n",
        "\n",
        "# operador or\n",
        "felicidad = estoy_en_casa or estoy_en_la_montaña\n",
        "print(f\"respuesta de {estoy_en_casa} or {estoy_en_la_montaña} es {felicidad}\")\n",
        "\n",
        "\n",
        "# operador not\n",
        "felicidad = not estoy_en_casa\n",
        "print(f\"respuesta de not {estoy_en_casa} es {felicidad}\")\n",
        "\n",
        "\n"
      ]
    },
    {
      "cell_type": "markdown",
      "metadata": {
        "id": "7X9gpM3LXxoi"
      },
      "source": [
        "# IF - ELIF - ELSE"
      ]
    },
    {
      "cell_type": "code",
      "execution_count": 5,
      "metadata": {
        "colab": {
          "base_uri": "https://localhost:8080/"
        },
        "id": "O1dZ97e_XxIb",
        "outputId": "6951cfee-5874-4cb8-d429-a2ff52e621ec"
      },
      "outputs": [
        {
          "name": "stdout",
          "output_type": "stream",
          "text": [
            "Gritando: Estoy feliz\n"
          ]
        }
      ],
      "source": [
        "# SOLO IF\n",
        "\n",
        "estoy_en_la_montaña = False\n",
        "me_tome_mi_cafe_del_dia = True\n",
        "\n",
        "estoy_feliz = estoy_en_la_montaña or me_tome_mi_cafe_del_dia\n",
        "\n",
        "if estoy_feliz:\n",
        "  print(\"Gritando: Estoy feliz\")"
      ]
    },
    {
      "cell_type": "code",
      "execution_count": 6,
      "metadata": {
        "colab": {
          "base_uri": "https://localhost:8080/"
        },
        "id": "Xc2Qbkj-ZsWk",
        "outputId": "47d7c808-06a4-4be8-fa6f-22d7713f9dc2"
      },
      "outputs": [
        {
          "name": "stdout",
          "output_type": "stream",
          "text": [
            "planifico un viaje a la montaña\n",
            "Gritando: Estoy feliz\n"
          ]
        }
      ],
      "source": [
        "# IF - ELSE\n",
        "\n",
        "estoy_en_la_montaña = False\n",
        "tengo_tiempo_libre = True\n",
        "\n",
        "estoy_feliz = estoy_en_la_montaña\n",
        "\n",
        "if estoy_feliz:\n",
        "  print(\"Gritando: Estoy feliz\")\n",
        "else:\n",
        "  print(\"planifico un viaje a la montaña\")\n",
        "  if tengo_tiempo_libre:\n",
        "    poder_ir_a_la_montaña = True\n",
        "  else:\n",
        "    poder_ir_a_la_montaña = False\n",
        "\n",
        "  if poder_ir_a_la_montaña:\n",
        "    print(\"Gritando: Estoy feliz\")\n"
      ]
    },
    {
      "cell_type": "code",
      "execution_count": 7,
      "metadata": {
        "colab": {
          "base_uri": "https://localhost:8080/"
        },
        "id": "qz3_SuFwbkj2",
        "outputId": "b5a8f4a2-3c51-4d32-c8af-30fd6573e86d"
      },
      "outputs": [
        {
          "name": "stdout",
          "output_type": "stream",
          "text": [
            "se ejecuta: elif tengo_tiempo_libre:\n",
            "planifico un viaje a la montaña\n",
            "se ejecuta: if poder_ir_a_la_montaña:\n",
            "Gritando: Estoy feliz\n"
          ]
        }
      ],
      "source": [
        "# IF - ELIF - ELSE\n",
        "\n",
        "estoy_en_la_montaña = False\n",
        "tengo_tiempo_libre = True\n",
        "poder_ir_a_la_montaña = None\n",
        "\n",
        "estoy_feliz = estoy_en_la_montaña\n",
        "\n",
        "if estoy_feliz:\n",
        "  print(\"se ejecuta: if estoy_feliz:\")\n",
        "  print(\"Gritando: Estoy feliz\")\n",
        "elif tengo_tiempo_libre:\n",
        "  print(\"se ejecuta: elif tengo_tiempo_libre:\")\n",
        "  print(\"planifico un viaje a la montaña\")\n",
        "  poder_ir_a_la_montaña = True\n",
        "else:\n",
        "  print(\"se ejecuta: else: de la linea 16\")\n",
        "  poder_ir_a_la_montaña = False\n",
        "\n",
        "if poder_ir_a_la_montaña:\n",
        "  print(\"se ejecuta: if poder_ir_a_la_montaña:\")\n",
        "  print(\"Gritando: Estoy feliz\")\n",
        "else:\n",
        "  print(\"se ejecuta: else: de la linea 23\")\n",
        "  print(\"Hacer algo para poder tener tiempo e ir a la montaña\")\n",
        "\n"
      ]
    },
    {
      "cell_type": "code",
      "execution_count": 8,
      "metadata": {
        "colab": {
          "base_uri": "https://localhost:8080/"
        },
        "id": "N5tzv5JceMNT",
        "outputId": "bdf6429c-e995-42d8-9648-b4a836c630fc"
      },
      "outputs": [
        {
          "name": "stdout",
          "output_type": "stream",
          "text": [
            "El valor de modulo_de_variable_a_evaluar es 0\n",
            "El valor 6 es par\n"
          ]
        }
      ],
      "source": [
        "variable_a_evaluar = 6\n",
        "\n",
        "if type(variable_a_evaluar) == type(''):\n",
        "  print(f\"la variable: '{variable_a_evaluar}' es tipo texto\")\n",
        "else:\n",
        "  modulo_de_variable_a_evaluar = variable_a_evaluar % 2\n",
        "  print(f\"El valor de modulo_de_variable_a_evaluar es {modulo_de_variable_a_evaluar}\")\n",
        "\n",
        "  if modulo_de_variable_a_evaluar != 0:\n",
        "    print(f\"El valor {variable_a_evaluar} es impar\")\n",
        "  elif variable_a_evaluar == 0:\n",
        "    print(f\"El valor {variable_a_evaluar} es cero\")\n",
        "  else:\n",
        "    print(f\"El valor {variable_a_evaluar} es par\")"
      ]
    },
    {
      "cell_type": "markdown",
      "metadata": {
        "id": "5mwYhy-8lAMj"
      },
      "source": [
        "# Listas"
      ]
    },
    {
      "cell_type": "code",
      "execution_count": 9,
      "metadata": {
        "colab": {
          "base_uri": "https://localhost:8080/"
        },
        "id": "bsTwFaCylD1Q",
        "outputId": "cc7057bf-3921-4b12-c6be-e39fde478cbe"
      },
      "outputs": [
        {
          "name": "stdout",
          "output_type": "stream",
          "text": [
            "\n",
            "\n",
            "===========================================================================================================\n",
            "\n",
            "el tamaño de la lista trensito es: 0 y sus datos son []\n",
            "el tamaño de la lista trensito es: 4 y sus datos son ['maria', 'juan', 'pedro', 'judas']\n",
            "\n",
            "\n",
            "===========================================================================================================\n",
            "\n",
            "el valor del vagon nro 3 es pedro\n",
            "el valor del vagon nro 1 es maria\n",
            "\n",
            "\n",
            "===========================================================================================================\n",
            "\n",
            "lista antes de agregarle un elemento: ['maria', 'juan', 'pedro', 'judas']\n",
            "el tamaño de la lista trensito es: 4\n",
            "lista despues de agregarle un elemento: ['maria', 'juan', 'pedro', 'judas', 'pinta']\n",
            "el tamaño de la lista trensito es: 5\n",
            "\n",
            "\n",
            "===========================================================================================================\n",
            "\n",
            "lista antes de eliminar a judas: ['maria', 'juan', 'pedro', 'judas', 'pinta']\n",
            "se elimino judas, ahora la posicion 3 es pinta\n",
            "lista despues de haber eliminado a judas: ['maria', 'juan', 'pedro', 'pinta']\n",
            "\n",
            "\n",
            "===========================================================================================================\n",
            "\n",
            "lista antes de eliminar a pedro: ['maria', 'juan', 'pedro', 'pinta']\n",
            "lista despues de eliminar a pedro: ['maria', 'juan', 'pinta']\n",
            "\n",
            "\n",
            "===========================================================================================================\n",
            "\n",
            "Existe el valor judas: False\n",
            "Existe el valor judas no existe en trensito \n",
            "Existe el valor maria: True\n",
            "Existe el valor maria si existe en trensito \n"
          ]
        }
      ],
      "source": [
        "print(\"\\n\\n===========================================================================================================\\n\")\n",
        "# creando lista vacia\n",
        "trensito = []\n",
        "\n",
        "# conociendo la cantida de datos que tiene una lista\n",
        "# utilizar la funcion len()\n",
        "print(f\"el tamaño de la lista trensito es: {len(trensito)} y sus datos son {trensito}\")\n",
        "\n",
        "\n",
        "# creando una lista con datos\n",
        "trensito = [\"maria\",\"juan\",\"pedro\",\"judas\"]\n",
        "\n",
        "# conociendo la cantida de datos que tiene una lista\n",
        "# utilizar la funcion len()\n",
        "print(f\"el tamaño de la lista trensito es: {len(trensito)} y sus datos son {trensito}\")\n",
        "\n",
        "print(\"\\n\\n===========================================================================================================\\n\")\n",
        "# revisar cual es el valor de una casilla\n",
        "# para esto explorar la posicion con []\n",
        "vagon = 3\n",
        "print(f\"el valor del vagon nro {vagon} es {trensito[vagon - 1]}\")\n",
        "\n",
        "vagon = 1\n",
        "print(f\"el valor del vagon nro {vagon} es {trensito[vagon - 1]}\")\n",
        "\n",
        "print(\"\\n\\n===========================================================================================================\\n\")\n",
        "# agregando elementos a una lista\n",
        "# usando la función append\n",
        "print(f\"lista antes de agregarle un elemento: {trensito}\")\n",
        "print(f\"el tamaño de la lista trensito es: {len(trensito)}\")\n",
        "trensito.append(\"pinta\")\n",
        "print(f\"lista despues de agregarle un elemento: {trensito}\")\n",
        "\n",
        "# conociendo la cantida de datos que tiene una lista\n",
        "# utilizar la funcion len()\n",
        "print(f\"el tamaño de la lista trensito es: {len(trensito)}\")\n",
        "\n",
        "\n",
        "print(\"\\n\\n===========================================================================================================\\n\")\n",
        "# eliminando un elemento por posicion\n",
        "# usando la funcion pop(valor_de_la_posicion_a_eliminar)\n",
        "# eliminando a judas\n",
        "vagon = 4\n",
        "nombre_vagon_a_eliminar = trensito[vagon - 1]\n",
        "print(f\"lista antes de eliminar a {nombre_vagon_a_eliminar}: {trensito}\")\n",
        "trensito.pop(vagon - 1)\n",
        "print(f\"se elimino {nombre_vagon_a_eliminar}, ahora la posicion {vagon - 1} es {trensito[vagon - 1]}\")\n",
        "print(f\"lista despues de haber eliminado a {nombre_vagon_a_eliminar}: {trensito}\")\n",
        "\n",
        "# ***Analizar que pasaria si se borra el ultimo elemento y despues quiero ver esa posicion\n",
        "\n",
        "\n",
        "print(\"\\n\\n===========================================================================================================\\n\")\n",
        "# Eliminando elemento por su valor\n",
        "# usando la funcion remove(valor_a_eliminar)\n",
        "# **solo borra el primer valor encontrado\n",
        "vagon_a_eliminar = 'pedro'\n",
        "print(f\"lista antes de eliminar a {vagon_a_eliminar}: {trensito}\")\n",
        "trensito.remove(vagon_a_eliminar)\n",
        "print(f\"lista despues de eliminar a {vagon_a_eliminar}: {trensito}\")\n",
        "\n",
        "\n",
        "print(\"\\n\\n===========================================================================================================\\n\")\n",
        "# revisando si existe un valor en la lista\n",
        "# usando la accion in\n",
        "existe_elemento = \"judas\"\n",
        "respuesta = existe_elemento in trensito\n",
        "print(f\"Existe el valor {existe_elemento}: {respuesta}\")\n",
        "print(f\"Existe el valor {existe_elemento} {'si' if respuesta else 'no'} existe en trensito \")\n",
        "\n",
        "\n",
        "existe_elemento = \"maria\"\n",
        "respuesta = existe_elemento in trensito\n",
        "print(f\"Existe el valor {existe_elemento}: {respuesta}\")\n",
        "print(f\"Existe el valor {existe_elemento} {'si' if respuesta else 'no'} existe en trensito \")"
      ]
    },
    {
      "cell_type": "markdown",
      "metadata": {
        "id": "oXhpGvvSvnSQ"
      },
      "source": [
        "# FOR - Loop"
      ]
    },
    {
      "cell_type": "code",
      "execution_count": 10,
      "metadata": {
        "colab": {
          "base_uri": "https://localhost:8080/"
        },
        "id": "Ho42rErlvyq5",
        "outputId": "745a7d78-5406-4e98-9f2f-1626c17c683b"
      },
      "outputs": [
        {
          "name": "stdout",
          "output_type": "stream",
          "text": [
            "inicio\n",
            "final\n",
            "se ejecuto en 3.005 segundos\n"
          ]
        }
      ],
      "source": [
        "import time\n",
        "\n",
        "inicio = time.time()\n",
        "print('inicio')\n",
        "time.sleep(3)\n",
        "print('final')\n",
        "fin = time.time()\n",
        "print(f\"se ejecuto en {round(fin - inicio, 4)} segundos\")\n",
        "\n"
      ]
    },
    {
      "cell_type": "code",
      "execution_count": 11,
      "metadata": {
        "colab": {
          "base_uri": "https://localhost:8080/"
        },
        "id": "PqKStVLMxVZC",
        "outputId": "e862c25d-ffe6-4c76-9a46-d6f55a46beca"
      },
      "outputs": [
        {
          "name": "stdout",
          "output_type": "stream",
          "text": [
            "Iniciando el For\n",
            "continuando con la ejecucion...\n",
            "en la iteracion 1 la variable 'valor' es: 0\n",
            "se detiene 5 segundos, antes de continuar...\n",
            "continuando con la ejecucion...\n",
            "en la iteracion 2 la variable 'valor' es: 1\n",
            "se detiene 5 segundos, antes de continuar...\n",
            "continuando con la ejecucion...\n",
            "en la iteracion 3 la variable 'valor' es: 2\n",
            "se detiene 5 segundos, antes de continuar...\n",
            "continuando con la ejecucion...\n",
            "en la iteracion 4 la variable 'valor' es: 3\n",
            "se detiene 5 segundos, antes de continuar...\n",
            "continuando con la ejecucion...\n",
            "en la iteracion 5 la variable 'valor' es: 4\n",
            "se detiene 5 segundos, antes de continuar...\n",
            "Fin del For\n"
          ]
        }
      ],
      "source": [
        "\n",
        "hasta = 5\n",
        "nro_iteracion = 1\n",
        "sleep = 5\n",
        "\n",
        "print(\"Iniciando el For\")\n",
        "for valor in range(hasta):\n",
        "  if nro_iteracion != 0:\n",
        "    print(\"continuando con la ejecucion...\")\n",
        "  print(f\"en la iteracion {nro_iteracion} la variable 'valor' es: {valor}\")\n",
        "  print(f\"se detiene {sleep} segundos, antes de continuar...\")\n",
        "  time.sleep(sleep)\n",
        "  nro_iteracion += 1\n",
        "  \n",
        "print(\"Fin del For\")\n"
      ]
    },
    {
      "cell_type": "code",
      "execution_count": 12,
      "metadata": {
        "colab": {
          "base_uri": "https://localhost:8080/"
        },
        "id": "Tjfw2jdYzpHQ",
        "outputId": "d159b0a5-917b-434e-92e8-4f1cc9dba982"
      },
      "outputs": [
        {
          "name": "stdout",
          "output_type": "stream",
          "text": [
            "tamaño trensito: 8\n",
            "Iniciando el For\n",
            "continuando con la ejecucion...\n",
            "en la iteracion 1 la variable 'vagon' es: maria\n",
            "se detiene 0 segundos, antes de continuar...\n",
            "continuando con la ejecucion...\n",
            "en la iteracion 2 la variable 'vagon' es: juan\n",
            "se detiene 0 segundos, antes de continuar...\n",
            "continuando con la ejecucion...\n",
            "en la iteracion 3 la variable 'vagon' es: pedro\n",
            "se detiene 0 segundos, antes de continuar...\n",
            "continuando con la ejecucion...\n",
            "en la iteracion 4 la variable 'vagon' es: judas\n",
            "se detiene 0 segundos, antes de continuar...\n",
            "continuando con la ejecucion...\n",
            "en la iteracion 5 la variable 'vagon' es: pinta\n",
            "se detiene 0 segundos, antes de continuar...\n",
            "continuando con la ejecucion...\n",
            "en la iteracion 6 la variable 'vagon' es: jorge\n",
            "se detiene 0 segundos, antes de continuar...\n",
            "continuando con la ejecucion...\n",
            "en la iteracion 7 la variable 'vagon' es: valentina\n",
            "se detiene 0 segundos, antes de continuar...\n",
            "continuando con la ejecucion...\n",
            "en la iteracion 8 la variable 'vagon' es: aimara\n",
            "Fin del For\n"
          ]
        }
      ],
      "source": [
        "\n",
        "trensito = [\"maria\",\"juan\",\"pedro\",\"judas\", \"pinta\", \"jorge\", \"valentina\", \"aimara\"]\n",
        "nro_iteracion = 1\n",
        "sleep = 0\n",
        "\n",
        "print(f\"tamaño trensito: {len(trensito)}\")\n",
        "\n",
        "print(\"Iniciando el For\")\n",
        "for vagon in trensito:\n",
        "  if nro_iteracion != 0:\n",
        "    print(\"continuando con la ejecucion...\")\n",
        "  print(f\"en la iteracion {nro_iteracion} la variable 'vagon' es: {vagon}\")\n",
        "  if nro_iteracion != len(trensito):\n",
        "    print(f\"se detiene {sleep} segundos, antes de continuar...\")\n",
        "    time.sleep(sleep)\n",
        "    nro_iteracion += 1\n",
        "print(\"Fin del For\")\n"
      ]
    },
    {
      "cell_type": "code",
      "execution_count": 13,
      "metadata": {
        "id": "KdjL-5Pj1LC9"
      },
      "outputs": [],
      "source": [
        "# Tarea: 2 decimas para el trabajo de for, entrega la proxima clase\n",
        "# utilizando lo aprendido y enseñado en clases de listas y for.\n",
        "# como seria recorrer los elementos de una lista usando el range()"
      ]
    },
    {
      "cell_type": "markdown",
      "metadata": {},
      "source": [
        "# Desarrollando un mini juego\n",
        "La idea principal del juego es descubrir un número generado aleatoriamente, determinando la cantidad de oportunidades que tengo para resolver el pusle, sumado a pistas, la idea final es encontrar el valor que se genero aleatoriamente"
      ]
    },
    {
      "cell_type": "code",
      "execution_count": 30,
      "metadata": {},
      "outputs": [
        {
          "name": "stdout",
          "output_type": "stream",
          "text": [
            "El valor random que fue creado es: 6\n"
          ]
        }
      ],
      "source": [
        "import random\n",
        "\n",
        "# creando numeros aleatorios\n",
        "valor_random = random.randint(0,10)\n",
        "print(f\"El valor random que fue creado es: {valor_random}\")"
      ]
    },
    {
      "cell_type": "code",
      "execution_count": 35,
      "metadata": {},
      "outputs": [
        {
          "name": "stdout",
          "output_type": "stream",
          "text": [
            "El valor ingresado es de tipo <class 'str'>\n",
            "Ahora el valor es de tipo <class 'int'>\n"
          ]
        }
      ],
      "source": [
        "# recibiendo un valor en timepo real\n",
        "valor_ingresado = input(\"ingrese un valor\")\n",
        "print(f\"El valor ingresado es de tipo {type(valor_ingresado)}\")\n",
        "valor_ingresado = int(valor_ingresado)\n",
        "print(f\"Ahora el valor es de tipo {type(valor_ingresado)}\")\n"
      ]
    },
    {
      "cell_type": "code",
      "execution_count": null,
      "metadata": {},
      "outputs": [],
      "source": []
    }
  ],
  "metadata": {
    "colab": {
      "collapsed_sections": [],
      "provenance": [],
      "toc_visible": true
    },
    "kernelspec": {
      "display_name": "Python 3.8.11 64-bit ('3.8.11')",
      "language": "python",
      "name": "python3"
    },
    "language_info": {
      "codemirror_mode": {
        "name": "ipython",
        "version": 3
      },
      "file_extension": ".py",
      "mimetype": "text/x-python",
      "name": "python",
      "nbconvert_exporter": "python",
      "pygments_lexer": "ipython3",
      "version": "3.8.11"
    },
    "vscode": {
      "interpreter": {
        "hash": "8f49d0a2ccb4f97d01c250111adf553a964e7903b00b36a23a22a6d59366461d"
      }
    }
  },
  "nbformat": 4,
  "nbformat_minor": 0
}
